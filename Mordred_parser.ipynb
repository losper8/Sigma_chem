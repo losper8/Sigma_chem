{
  "nbformat": 4,
  "nbformat_minor": 0,
  "metadata": {
    "colab": {
      "provenance": []
    },
    "kernelspec": {
      "name": "python3",
      "display_name": "Python 3"
    },
    "language_info": {
      "name": "python"
    }
  },
  "cells": [
    {
      "cell_type": "markdown",
      "source": [
        "Установим необходимые библиотеки для парсинга дискрипторов из библиотеки mordred. Поскольку библиотека mordred работает на основе rdkit импортируем и его."
      ],
      "metadata": {
        "id": "aDiTfdnpGkN_"
      }
    },
    {
      "cell_type": "code",
      "execution_count": null,
      "metadata": {
        "id": "Uc2__KNDOAJb"
      },
      "outputs": [],
      "source": [
        "!pip install mordred\n",
        "!pip install rdkit-pypi\n",
        "from mordred import Calculator\n",
        "from mordred import descriptors\n",
        "from rdkit.Chem import AllChem\n",
        "from rdkit import Chem\n",
        "import pandas as pd\n",
        "import numpy as np"
      ]
    },
    {
      "cell_type": "markdown",
      "source": [
        "С помощью библиотеки psndas считываем датасет."
      ],
      "metadata": {
        "id": "qk9n-OvHGlrf"
      }
    },
    {
      "cell_type": "code",
      "source": [
        "data = pd.read_excel('7_whit_cid.xlsx')"
      ],
      "metadata": {
        "id": "nMU1T_w9PXO6"
      },
      "execution_count": 3,
      "outputs": []
    },
    {
      "cell_type": "code",
      "source": [
        "#Выбираем колонку по которой будем парсить дискрипторы\n",
        "smiles = data['CanonicalSMILES']\n",
        "#Чтобы сократить время расчетов временно удалим все дублирующиеся smiles\n",
        "smiles = smiles.drop_duplicates()\n",
        "smiles = smiles.reset_index(drop = True)\n",
        "#Удалим строчку с пустым занчением чтобы парсер не выдавал ошибку\n",
        "smiles = smiles.drop(labels = [5],axis = 0)"
      ],
      "metadata": {
        "id": "IzO9odF_PZwe"
      },
      "execution_count": 4,
      "outputs": []
    },
    {
      "cell_type": "markdown",
      "source": [
        "Проверим правильно ли мы сформировали входные данные."
      ],
      "metadata": {
        "id": "pPDytXw1II63"
      }
    },
    {
      "cell_type": "code",
      "source": [
        "smiles"
      ],
      "metadata": {
        "id": "xygT938QYYrI"
      },
      "execution_count": null,
      "outputs": []
    },
    {
      "cell_type": "markdown",
      "source": [
        "Пишем цикл для париснга дискрипторов."
      ],
      "metadata": {
        "id": "BvH_vvFqGpeB"
      }
    },
    {
      "cell_type": "code",
      "source": [
        "#Создадим пустой датафрейм для записи туда дескрипторов\n",
        "df = pd.DataFrame()\n",
        "#В цикле проходимся по столбцусодержащим smiles\n",
        "for i in smiles:  \n",
        "  #В переменную забиваем калькулятор дескрипторов\n",
        "  calc = Calculator(descriptors)\n",
        "  #Получаем молекулу из smiles формата\n",
        "  mol = [Chem.MolFromSmiles(i)]  \n",
        "  #Расчитываем все дескрипторы для конкретной молекулы и заносим их в массив pandas\n",
        "  a = calc.pandas(mol)\n",
        "  #Добавляем все полученные значения в заранее созданный датафрейм\n",
        "  df = pd.concat([df,a])"
      ],
      "metadata": {
        "id": "xrBSqJ6bPtnY"
      },
      "execution_count": null,
      "outputs": []
    },
    {
      "cell_type": "markdown",
      "source": [
        "Проверяем правильно ли спарсились значения"
      ],
      "metadata": {
        "id": "QzgwrXIMJTTv"
      }
    },
    {
      "cell_type": "code",
      "source": [
        "df.to_excel('df.xlsx')"
      ],
      "metadata": {
        "id": "bPTpbtXeRuVx"
      },
      "execution_count": 11,
      "outputs": []
    },
    {
      "cell_type": "markdown",
      "source": [
        "Для правильного объединения изначального датасета и полученных дескрипторов вставим колонку CanonicalSMILES в датафрейм с дескрипторами"
      ],
      "metadata": {
        "id": "nkn4LQgoJYL_"
      }
    },
    {
      "cell_type": "code",
      "source": [
        "df = df.insert(0, \"CanonicalSMILES\", smiles)"
      ],
      "metadata": {
        "id": "TYHxzzaMYh_t"
      },
      "execution_count": null,
      "outputs": []
    },
    {
      "cell_type": "markdown",
      "source": [
        "Забиваем в переменную ту же колонку из изначального датасета но уже с дупликатами."
      ],
      "metadata": {
        "id": "WbIR3UJZJrjI"
      }
    },
    {
      "cell_type": "code",
      "source": [
        "smiles_ = data['CanonicalSMILES']"
      ],
      "metadata": {
        "id": "zxpsf4D1ZDox"
      },
      "execution_count": 24,
      "outputs": []
    },
    {
      "cell_type": "markdown",
      "source": [
        "При помощи функции merge востанавливаваем убранные ранее дубликаты. Для это используем left.join а индексной колонкой делаем общую колонку 'CanonicalSMILES'"
      ],
      "metadata": {
        "id": "YzGMpcfDKAdW"
      }
    },
    {
      "cell_type": "code",
      "source": [
        "mord_desk = pd.merge(smiles_, df, how='left', on='CanonicalSMILES')"
      ],
      "metadata": {
        "id": "IzhRmhr2Y9bT"
      },
      "execution_count": 28,
      "outputs": []
    },
    {
      "cell_type": "markdown",
      "source": [
        "Выгружаем полученный датасет, проверяем его и добавляем дескрипторы в изначальную"
      ],
      "metadata": {
        "id": "L6YLBTU9Koms"
      }
    },
    {
      "cell_type": "code",
      "source": [
        "mord_desk.to_excel('mord_desk.xlsx')"
      ],
      "metadata": {
        "id": "v_D7YF6aagw2"
      },
      "execution_count": 30,
      "outputs": []
    }
  ]
}