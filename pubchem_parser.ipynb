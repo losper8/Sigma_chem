{
  "nbformat": 4,
  "nbformat_minor": 0,
  "metadata": {
    "colab": {
      "provenance": []
    },
    "kernelspec": {
      "name": "python3",
      "display_name": "Python 3"
    },
    "language_info": {
      "name": "python"
    }
  },
  "cells": [
    {
      "cell_type": "markdown",
      "source": [
        "Установим все необходимык библиотеки для парсинга"
      ],
      "metadata": {
        "id": "buRwPVvbT7Tc"
      }
    },
    {
      "cell_type": "code",
      "execution_count": 4,
      "metadata": {
        "id": "IuKtQR2PLNJB",
        "colab": {
          "base_uri": "https://localhost:8080/"
        },
        "outputId": "84b5da79-ffd9-4a54-fd2f-10a7a24b08b6"
      },
      "outputs": [
        {
          "output_type": "stream",
          "name": "stdout",
          "text": [
            "Looking in indexes: https://pypi.org/simple, https://us-python.pkg.dev/colab-wheels/public/simple/\n",
            "Requirement already satisfied: pubchempy in /usr/local/lib/python3.9/dist-packages (1.0.4)\n"
          ]
        }
      ],
      "source": [
        "import pandas as pd\n",
        "!pip install pubchempy\n",
        "import pubchempy as pbp\n",
        "import numpy as np"
      ]
    },
    {
      "cell_type": "markdown",
      "source": [
        "Считываем изначальный датасет"
      ],
      "metadata": {
        "id": "Im3uuTaMUD5z"
      }
    },
    {
      "cell_type": "code",
      "source": [
        "data = pd.read_excel('7_whit_cid.xlsx')"
      ],
      "metadata": {
        "id": "oJFQF6G_2Jiw"
      },
      "execution_count": 45,
      "outputs": []
    },
    {
      "cell_type": "code",
      "source": [
        "#Считываем столбец по которому будем искать дескрипторы\n",
        "smiles = data['CanonicalSMILES']\n",
        "#Временно удалим дубликаты для того чтобы ускорить парсинг\n",
        "smiles = smiles.drop_duplicates()\n",
        "smiles = smiles.reset_index(drop = True)"
      ],
      "metadata": {
        "id": "4uFxdJ25FH_3"
      },
      "execution_count": 46,
      "outputs": []
    },
    {
      "cell_type": "code",
      "source": [
        "#Создаем список состоящий из названий всех дескрипторов доступных в pubchem\n",
        "porp = ['CanonicalSMILES','MolecularFormula', 'MolecularWeight', 'IsomericSMILES', 'InChI', 'InChIKey', 'IUPACName', 'XLogP', 'ExactMass', 'MonoisotopicMass', 'TPSA', 'Complexity', 'Charge', 'HBondDonorCount', 'HBondAcceptorCount', 'RotatableBondCount', 'HeavyAtomCount', 'IsotopeAtomCount', 'AtomStereoCount', 'DefinedAtomStereoCount', 'UndefinedAtomStereoCount', 'BondStereoCount', 'DefinedBondStereoCount', 'UndefinedBondStereoCount', 'CovalentUnitCount', 'Volume3D', 'XStericQuadrupole3D', 'YStericQuadrupole3D', 'ZStericQuadrupole3D', 'FeatureCount3D', 'FeatureAcceptorCount3D', 'FeatureDonorCount3D', 'FeatureAnionCount3D', 'FeatureCationCount3D', 'FeatureRingCount3D', 'FeatureHydrophobeCount3D', 'ConformerModelRMSD3D', 'EffectiveRotorCount3D', 'ConformerCount3D']"
      ],
      "metadata": {
        "id": "-QQbeIp8eaKC"
      },
      "execution_count": 12,
      "outputs": []
    },
    {
      "cell_type": "code",
      "source": [
        "#Создадим два пцстых датафрейма. В первый будем записывать полученные дескрипторы а второй будет заменять строку если pubchem\n",
        "#не сможет найти дескрипторы по конкретному smiles\n",
        "df = pd.DataFrame(columns=porp)\n",
        "a = pd.DataFrame(columns=porp)"
      ],
      "metadata": {
        "id": "FRGpRwBcd9Vn"
      },
      "execution_count": 13,
      "outputs": []
    },
    {
      "cell_type": "code",
      "source": [
        "#Создаем цикл который перебирает все значения в name series\n",
        "for i in range(len(smiles)):\n",
        "  try:\n",
        "    #Парсим все дескрипторы из списка для каждой молекулы\n",
        "    b = pbp.get_properties(properties = porp, identifier = smiles[i], namespace='smiles', searchtype=None, as_dataframe = True)\n",
        "    #Записываем полученные значения в датафрейм\n",
        "    b = pd.DataFrame(b, columns=porp)\n",
        "    #Добавляем строку с данными в созданный выше датафрейм\n",
        "    df = pd.concat([df,b], ignore_index=True)\n",
        "  except:\n",
        "    #В случае возникновения ошибки добавляем пустую строку\n",
        "    df = pd.concat([df,a], ignore_index=True)"
      ],
      "metadata": {
        "id": "89uNR28xZ6aw"
      },
      "execution_count": 14,
      "outputs": []
    },
    {
      "cell_type": "markdown",
      "source": [
        "Проверяем получнный датасет"
      ],
      "metadata": {
        "id": "MZ1DUG2YWING"
      }
    },
    {
      "cell_type": "code",
      "source": [
        "df"
      ],
      "metadata": {
        "id": "Z6LXA465e4bh"
      },
      "execution_count": null,
      "outputs": []
    },
    {
      "cell_type": "markdown",
      "source": [
        "Считываем колонку изначальную колонку CanonicalSMILES "
      ],
      "metadata": {
        "id": "wt9LvGgJWLb1"
      }
    },
    {
      "cell_type": "code",
      "source": [
        "smiles_ = data['CanonicalSMILES']\n",
        "smiles_ = pd.DataFrame(smiles_)"
      ],
      "metadata": {
        "id": "Zpli5fCAnFX3"
      },
      "execution_count": 88,
      "outputs": []
    },
    {
      "cell_type": "markdown",
      "source": [
        "При помощи функции merge востанавливаваем убранные ранее дубликаты. Для это используем left.join а индексной колонкой делаем общую колонку 'CanonicalSMILES'"
      ],
      "metadata": {
        "id": "5gWn2x1rWb-i"
      }
    },
    {
      "cell_type": "code",
      "source": [
        "diskr_pubchem = pd.merge(smiles_, df, how = 'left')\n"
      ],
      "metadata": {
        "id": "UuwwngrMrXH3"
      },
      "execution_count": 89,
      "outputs": []
    },
    {
      "cell_type": "markdown",
      "source": [
        "Проверим правильно ли выполнена фунция merge"
      ],
      "metadata": {
        "id": "9B9Hh_NgWiIi"
      }
    },
    {
      "cell_type": "code",
      "source": [
        "diskr_pubchem"
      ],
      "metadata": {
        "id": "J4elkookvIw9"
      },
      "execution_count": null,
      "outputs": []
    },
    {
      "cell_type": "markdown",
      "source": [
        "Выгружаем полученный датасет, проверяем его и добавляем дескрипторы в изначальный датасет"
      ],
      "metadata": {
        "id": "0cM3QmGvWoRa"
      }
    },
    {
      "cell_type": "code",
      "source": [
        "diskr_pubchem.to_excel('Pubchem_diskr.xlsx', index = False)"
      ],
      "metadata": {
        "id": "_oyaeYZen3oD"
      },
      "execution_count": 18,
      "outputs": []
    }
  ]
}