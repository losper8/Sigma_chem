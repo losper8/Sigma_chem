{
  "nbformat": 4,
  "nbformat_minor": 0,
  "metadata": {
    "colab": {
      "provenance": []
    },
    "kernelspec": {
      "name": "python3",
      "display_name": "Python 3"
    },
    "language_info": {
      "name": "python"
    }
  },
  "cells": [
    {
      "cell_type": "markdown",
      "source": [
        "Установим необходимые библиотеки для парсинга дискрипторов из библиотеки rdkit."
      ],
      "metadata": {
        "id": "E-j2xKO0MqII"
      }
    },
    {
      "cell_type": "code",
      "execution_count": null,
      "metadata": {
        "id": "K1ORBOcBtMNf"
      },
      "outputs": [],
      "source": [
        "!pip install rdkit-pypi\n",
        "from rdkit.Chem import AllChem\n",
        "from rdkit import Chem\n",
        "from rdkit.Chem import Descriptors\n",
        "from rdkit.ML.Descriptors import MoleculeDescriptors\n",
        "import pandas as pd\n",
        "import numpy as np\n"
      ]
    },
    {
      "cell_type": "markdown",
      "source": [
        "С помощью библиотеки psndas считываем датасет."
      ],
      "metadata": {
        "id": "Z4cWkW3_M2P6"
      }
    },
    {
      "cell_type": "code",
      "source": [
        "data = pd.read_excel('7_whit_cid.xlsx')\n"
      ],
      "metadata": {
        "id": "wNeE1nR_x1R3"
      },
      "execution_count": 12,
      "outputs": []
    },
    {
      "cell_type": "code",
      "source": [
        "#Выбираем колонку по которой будем парсить дискрипторы\n",
        "smiles = data['CanonicalSMILES']\n",
        "#Чтобы сократить время расчетов временно удалим все дублирующиеся smiles\n",
        "smiles = smiles.drop_duplicates()\n",
        "smiles = smiles.reset_index(drop = True)"
      ],
      "metadata": {
        "id": "2GqmHMk8x1OJ"
      },
      "execution_count": 34,
      "outputs": []
    },
    {
      "cell_type": "code",
      "source": [
        "#Удалим строчку с пустым занчением чтобы парсер не выдавал ошибку\n",
        "smiles = smiles.drop(labels = [5],axis = 0)"
      ],
      "metadata": {
        "id": "iB4ujdGc7m5H"
      },
      "execution_count": 35,
      "outputs": []
    },
    {
      "cell_type": "markdown",
      "source": [
        "Проверим корекктность полученого named series"
      ],
      "metadata": {
        "id": "Oc-bHLGTNVSf"
      }
    },
    {
      "cell_type": "code",
      "source": [
        "smiles"
      ],
      "metadata": {
        "id": "7g4TMQ839Jkv"
      },
      "execution_count": null,
      "outputs": []
    },
    {
      "cell_type": "code",
      "source": [
        "#Создадим пустой датафрейм куда будем добавлять значения дескрипторов\n",
        "df = pd.DataFrame()\n",
        "for i in smiles:  \n",
        "  #Считываем молекулу из smiles формата\n",
        "  mol = Chem.MolFromSmiles(i)\n",
        "  #Создадим переменную в которую запишем расчет всех дескрипторов доступных в rdkit\n",
        "  calc = MoleculeDescriptors.MolecularDescriptorCalculator([x[0] for x in Descriptors._descList])\n",
        "  #Запишем в переменную наименование всех дескрипторов\n",
        "  desc_names = calc.GetDescriptorNames()\n",
        "  #Создадим пустой список в который будут записываться значения дескрипторов\n",
        "  Mol_descriptors = []\n",
        "  #Добавим водороды к молекуле\n",
        "  mol = Chem.AddHs(mol)\n",
        "  #НАходим значения всех дескрипторов для молекулы\n",
        "  descriptors = calc.CalcDescriptors(mol)\n",
        "  #Заносим полученные значения в список\n",
        "  Mol_descriptors.append(descriptors)\n",
        "  #Формируем дата фрейм где назавнием колонок будут наименования дескрипторов а первый ряд это значения соответсвующих десркипторов\n",
        "  a = pd.DataFrame(Mol_descriptors, columns=desc_names)\n",
        "  #Добавляем полученную строку в изначальный датафрейм\n",
        "  df = pd.concat([df,a])"
      ],
      "metadata": {
        "id": "th_WCQs3x1Ks"
      },
      "execution_count": null,
      "outputs": []
    },
    {
      "cell_type": "markdown",
      "source": [
        "Проверим полученный датафрейм"
      ],
      "metadata": {
        "id": "KkGmp9hEPFV9"
      }
    },
    {
      "cell_type": "code",
      "source": [
        "df"
      ],
      "metadata": {
        "id": "KcE3pelT67lk"
      },
      "execution_count": null,
      "outputs": []
    },
    {
      "cell_type": "markdown",
      "source": [
        "Считываем изначальную колонку CanonicalSMILES"
      ],
      "metadata": {
        "id": "awVepz0iPKTf"
      }
    },
    {
      "cell_type": "code",
      "source": [
        "smil = data['CanonicalSMILES']"
      ],
      "metadata": {
        "id": "EmD9L_IUBDQA"
      },
      "execution_count": 62,
      "outputs": []
    },
    {
      "cell_type": "markdown",
      "source": [
        "При помощи функции merge востанавливаваем убранные ранее дубликаты. Для это используем left.join а индексной колонкой делаем общую колонку 'CanonicalSMILES"
      ],
      "metadata": {
        "id": "PWxa2l_eRBe-"
      }
    },
    {
      "cell_type": "code",
      "source": [
        "rdkit_desk = pd.merge(smil, df, how='left', on='CanonicalSMILES')\n"
      ],
      "metadata": {
        "id": "bqKUia0F_zXV"
      },
      "execution_count": 64,
      "outputs": []
    },
    {
      "cell_type": "markdown",
      "source": [
        "Выгружаем полученный датасет, проверяем его и добавляем дескрипторы в изначальную"
      ],
      "metadata": {
        "id": "2b9yfAa4RGQu"
      }
    },
    {
      "cell_type": "code",
      "source": [
        "rdkit_desk.to_excel('rd_desk.xlsx', index = False)"
      ],
      "metadata": {
        "id": "VVf2f5p__io2"
      },
      "execution_count": 65,
      "outputs": []
    }
  ]
}