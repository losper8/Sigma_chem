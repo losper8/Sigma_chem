{
  "nbformat": 4,
  "nbformat_minor": 0,
  "metadata": {
    "colab": {
      "provenance": []
    },
    "kernelspec": {
      "name": "python3",
      "display_name": "Python 3"
    },
    "language_info": {
      "name": "python"
    }
  },
  "cells": [
    {
      "cell_type": "code",
      "execution_count": null,
      "metadata": {
        "id": "-3UdyrY9x6jx"
      },
      "outputs": [],
      "source": [
        "from sklearn.impute import KNNImputer\n",
        "import pandas as pd"
      ]
    },
    {
      "cell_type": "code",
      "source": [
        "data = pd.read_excel('clustering.xlsx')"
      ],
      "metadata": {
        "id": "TfuUNm0GyDsz"
      },
      "execution_count": null,
      "outputs": []
    },
    {
      "cell_type": "code",
      "source": [
        "imputer = KNNImputer(n_neighbors=5)\n",
        "fin = pd.DataFrame(imputer.fit_transform(data), columns = data.columns)"
      ],
      "metadata": {
        "id": "tnylUqp3yHeg"
      },
      "execution_count": null,
      "outputs": []
    },
    {
      "cell_type": "code",
      "source": [
        "fin.shape"
      ],
      "metadata": {
        "colab": {
          "base_uri": "https://localhost:8080/"
        },
        "id": "-u32XwiwyoDF",
        "outputId": "64881009-2467-45f3-9943-6e95f0d3412b"
      },
      "execution_count": null,
      "outputs": [
        {
          "output_type": "execute_result",
          "data": {
            "text/plain": [
              "(3508, 1308)"
            ]
          },
          "metadata": {},
          "execution_count": 5
        }
      ]
    },
    {
      "cell_type": "code",
      "source": [
        "fin.to_excel('cluster.xlsx')"
      ],
      "metadata": {
        "id": "nUX8pgBYyT3u"
      },
      "execution_count": null,
      "outputs": []
    }
  ]
}