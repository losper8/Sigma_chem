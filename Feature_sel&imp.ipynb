{
  "nbformat": 4,
  "nbformat_minor": 0,
  "metadata": {
    "colab": {
      "provenance": []
    },
    "kernelspec": {
      "name": "python3",
      "display_name": "Python 3"
    },
    "language_info": {
      "name": "python"
    }
  },
  "cells": [
    {
      "cell_type": "code",
      "source": [
        "!pip install sklearn-genetic"
      ],
      "metadata": {
        "id": "KhAX1yIVnlmR"
      },
      "execution_count": null,
      "outputs": []
    },
    {
      "cell_type": "markdown",
      "source": [
        "Подгрузим библиотке которые будем использовать"
      ],
      "metadata": {
        "id": "1qjJZsbb5ZbX"
      }
    },
    {
      "cell_type": "code",
      "execution_count": 2,
      "metadata": {
        "id": "eeTv3_9Im4gV"
      },
      "outputs": [],
      "source": [
        "import pandas as pd\n",
        "from genetic_selection import GeneticSelectionCV\n",
        "from sklearn.ensemble import RandomForestRegressor\n",
        "from sklearn.feature_selection import SequentialFeatureSelector as sfs\n",
        "from sklearn.feature_selection import RFE\n",
        "from sklearn.feature_selection import VarianceThreshold\n",
        "import matplotlib.pyplot as plt"
      ]
    },
    {
      "cell_type": "code",
      "source": [
        "data = pd.read_excel('new_features.xlsx')#Подгружаем датасет"
      ],
      "metadata": {
        "id": "WIxF4aAorvOX"
      },
      "execution_count": 3,
      "outputs": []
    },
    {
      "cell_type": "code",
      "source": [
        "X = data.drop(['TPSA'], axis=1)\n",
        "y = data['TPSA']\n",
        "#Выбираем таргетный парметр"
      ],
      "metadata": {
        "id": "44zQK72oVKOr"
      },
      "execution_count": 4,
      "outputs": []
    },
    {
      "cell_type": "code",
      "source": [
        "estimator = RandomForestRegressor()\n",
        "#В качестве оценочного алгоритма выбрем алгоритм случайного леса\n",
        "#Первым попробуем генетический алгоритм\n",
        "model = GeneticSelectionCV(\n",
        "    estimator, cv=5, verbose=0,\n",
        "    scoring=\"r2\", max_features=5,\n",
        "    n_population=5, crossover_proba=0.5,\n",
        "    mutation_proba=0.2, n_generations=50,\n",
        "    crossover_independent_proba=0.5,\n",
        "    mutation_independent_proba=0.04,\n",
        "    tournament_size=3, n_gen_no_change=20,\n",
        "    caching=True, n_jobs=-1)\n",
        "\n",
        "model = model.fit(X, y)"
      ],
      "metadata": {
        "id": "xXV_pYYsrv0k"
      },
      "execution_count": 5,
      "outputs": []
    },
    {
      "cell_type": "code",
      "source": [
        "plt.plot(model.generation_scores_, 'o', color='black')"
      ],
      "metadata": {
        "colab": {
          "base_uri": "https://localhost:8080/",
          "height": 282
        },
        "id": "m5ccxtSNsm08",
        "outputId": "0f57d157-78d4-4c59-9f98-6e8724958df2"
      },
      "execution_count": 9,
      "outputs": [
        {
          "output_type": "execute_result",
          "data": {
            "text/plain": [
              "[<matplotlib.lines.Line2D at 0x7fdec2b2cd00>]"
            ]
          },
          "metadata": {},
          "execution_count": 9
        },
        {
          "output_type": "display_data",
          "data": {
            "text/plain": [
              "<Figure size 432x288 with 1 Axes>"
            ],
            "image/png": "[encoded data removed]"
          },
          "metadata": {
            "needs_background": "light"
          }
        }
      ]
    },
    {
      "cell_type": "code",
      "source": [
        "#Поссмотрим какие колонки были выбраны как наиболее важные \n",
        "#x006 - HBondDonorCount\n",
        "#x008 - RotatableBondCount\n",
        "#x010 - IsotopeAtomCount\n",
        "#x015 - CovalentUnitCount\n",
        "#x017 - XStericQuadrupole3D\n",
        "print('Features:', X.columns[model.support_])"
      ],
      "metadata": {
        "colab": {
          "base_uri": "https://localhost:8080/"
        },
        "id": "9DnrY41av8Su",
        "outputId": "44762d75-cb82-4e05-aff8-c42b66c86943"
      },
      "execution_count": 14,
      "outputs": [
        {
          "output_type": "stream",
          "name": "stdout",
          "text": [
            "Features: Index(['x017', 'x011*log(x015)', 'x006*sqrt(x010)', 'x008*sqrt(x017)',\n",
            "       'x006**2*log(x015)'],\n",
            "      dtype='object')\n"
          ]
        }
      ]
    },
    {
      "cell_type": "markdown",
      "source": [
        "Попробуем метод SequentialFeatureSelector\n"
      ],
      "metadata": {
        "id": "FdOZ2yI_TlgP"
      }
    },
    {
      "cell_type": "code",
      "source": [
        "sfs1 = sfs(estimator,\n",
        "           n_features_to_select=5,\n",
        "           scoring='r2',\n",
        "           cv=5)\n",
        "\n",
        "sfs1 = sfs1.fit(X, y)"
      ],
      "metadata": {
        "id": "FxDtTexjs7MK"
      },
      "execution_count": 10,
      "outputs": []
    },
    {
      "cell_type": "code",
      "source": [
        "estimator_sfs = RandomForestRegressor()\n",
        "estimator_sfs.fit(X.loc[:, sfs1.support_], y)"
      ],
      "metadata": {
        "id": "4eoHEm1htNxf"
      },
      "execution_count": null,
      "outputs": []
    },
    {
      "cell_type": "code",
      "source": [
        "#Поссмотрим какие колонки были выбраны как наиболее важные \n",
        "#x003 - MonoisotopicMass\n",
        "#x005 - Charge\n",
        "#x006 - HBondDonorCount\n",
        "#x009 - HeavyAtomCount\n",
        "#x018 - YStericQuadrupole3D\n",
        "\n",
        "print('Features:', X.columns[sfs1.support_])"
      ],
      "metadata": {
        "colab": {
          "base_uri": "https://localhost:8080/"
        },
        "id": "hwJ_94tbwB9j",
        "outputId": "8fcc48a3-754c-43ff-b386-e4d140cd5617"
      },
      "execution_count": 15,
      "outputs": [
        {
          "output_type": "stream",
          "name": "stdout",
          "text": [
            "Features: Index(['x005', 'x018**5', 'x006*x009', 'x006**3*x018**3',\n",
            "       'x003**2*sqrt(x006)'],\n",
            "      dtype='object')\n"
          ]
        }
      ]
    },
    {
      "cell_type": "code",
      "source": [
        "import numpy as np \n",
        "r2 = estimator_sfs.score(X.loc[:, sfs1.support_], y)\n",
        "print('R-squared:', np.round(r2, decimals=4))"
      ],
      "metadata": {
        "colab": {
          "base_uri": "https://localhost:8080/"
        },
        "id": "lPiHukc9tRd8",
        "outputId": "fecc2fad-1b1b-4388-ee52-cd5b988b719e"
      },
      "execution_count": 12,
      "outputs": [
        {
          "output_type": "stream",
          "name": "stdout",
          "text": [
            "R-squared: 0.9965\n"
          ]
        }
      ]
    },
    {
      "cell_type": "markdown",
      "source": [
        "Метод показал высокое значение коэффициента детерминации близкий к 1."
      ],
      "metadata": {
        "id": "3-LETc4ZRLRr"
      }
    },
    {
      "cell_type": "markdown",
      "source": [
        "Посмотрим что сможет показать нам Recursive feature elimination."
      ],
      "metadata": {
        "id": "vn7u0PfzSO8o"
      }
    },
    {
      "cell_type": "code",
      "source": [
        "estimator_rfe = RandomForestRegressor()\n",
        "selector = RFE(estimator_rfe, n_features_to_select=5, step=1)\n",
        "selector = selector.fit(X, y)"
      ],
      "metadata": {
        "id": "qT8673sqtU_x"
      },
      "execution_count": 13,
      "outputs": []
    },
    {
      "cell_type": "code",
      "source": [
        "selector.get_feature_names_out()\n",
        "#Поссмотрим какие колонки были выбраны как наиболее важные \n",
        "\n",
        "#x005 - Charge\n",
        "#x006 - HBondDonorCount\n",
        "#x007 - HBondAcceptorCount\n",
        "#x009 - HeavyAtomCount\n",
        "#x018 - YStericQuadrupole3D"
      ],
      "metadata": {
        "colab": {
          "base_uri": "https://localhost:8080/"
        },
        "id": "XtCOLPFhtjLS",
        "outputId": "49e3e712-259b-4fdd-efa2-701626d556df"
      },
      "execution_count": 16,
      "outputs": [
        {
          "output_type": "execute_result",
          "data": {
            "text/plain": [
              "array(['x005', 'x006', 'x006*x009', 'x006**3*x018**3', 'x005*x007'],\n",
              "      dtype=object)"
            ]
          },
          "metadata": {},
          "execution_count": 16
        }
      ]
    },
    {
      "cell_type": "code",
      "source": [
        "print('R-squared:', np.round(selector.score(X, y), decimals=4))"
      ],
      "metadata": {
        "colab": {
          "base_uri": "https://localhost:8080/"
        },
        "id": "Pb4tfHDntmcg",
        "outputId": "953c2918-2da7-4682-abcc-ac3cbb96f814"
      },
      "execution_count": 17,
      "outputs": [
        {
          "output_type": "stream",
          "name": "stdout",
          "text": [
            "R-squared: 0.9953\n"
          ]
        }
      ]
    },
    {
      "cell_type": "markdown",
      "source": [
        "Метод показал себя хорошо коэффциент детерминации всего на одну тысячную ниже чем у предыдущего алгоритма. Так же были выделены почти те же столбцы из чего можно сделать вывод, что стобцы 5, 6, 9 в нашем датасете имют наибольшую значимость."
      ],
      "metadata": {
        "id": "A-8N1T_nSvWx"
      }
    },
    {
      "cell_type": "markdown",
      "source": [
        "Потестируем менее эффективные но от это не менее полезные алгоритмы.\n",
        "Приведенный ниже алгоритм можно использовать для удаления столбцов у которых значения threshold ниже заданного порога. Полезен для отчистки датасета от колонок содержащих много нулевых значений."
      ],
      "metadata": {
        "id": "vZW6_OVpTZ_d"
      }
    },
    {
      "cell_type": "code",
      "source": [
        "selector_t = VarianceThreshold(threshold=0.9)\n",
        "selector_t.fit_transform(X)"
      ],
      "metadata": {
        "colab": {
          "base_uri": "https://localhost:8080/"
        },
        "id": "bAy8xTeDwdad",
        "outputId": "265c83e2-1f2c-4886-d970-243bd38d43f1"
      },
      "execution_count": 26,
      "outputs": [
        {
          "output_type": "execute_result",
          "data": {
            "text/plain": [
              "array([[ 0.00000000e+00,  9.00000000e-01,  7.40731649e+01, ...,\n",
              "         1.41421356e+00,  1.00000000e+00,  3.60555128e+00],\n",
              "       [ 1.00000000e+00,  2.10000000e+00,  7.59441424e+01, ...,\n",
              "         0.00000000e+00,  0.00000000e+00,  6.00000000e+00],\n",
              "       [ 2.00000000e+00, -4.60000000e+00,  4.27029416e+02, ...,\n",
              "         6.92820323e+00,  0.00000000e+00,  7.14422844e+01],\n",
              "       ...,\n",
              "       [ 2.34700000e+03,  2.92000000e+00,  2.90050578e+02, ...,\n",
              "         3.63318042e+00,  6.32455532e-01,  2.98496231e+01],\n",
              "       [ 2.34800000e+03,  9.00000000e-01,  5.99667558e+01, ...,\n",
              "         0.00000000e+00,  0.00000000e+00,  0.00000000e+00],\n",
              "       [ 2.34900000e+03, -5.00000000e-01,  3.20262147e+01, ...,\n",
              "         0.00000000e+00,  0.00000000e+00,  1.41421356e+00]])"
            ]
          },
          "metadata": {},
          "execution_count": 26
        }
      ]
    },
    {
      "cell_type": "code",
      "source": [
        "selector_t.get_feature_names_out()"
      ],
      "metadata": {
        "colab": {
          "base_uri": "https://localhost:8080/"
        },
        "id": "Raj0zfX5w5KR",
        "outputId": "cc1a2128-d208-4274-f5a3-773bb046e6b5"
      },
      "execution_count": 27,
      "outputs": [
        {
          "output_type": "execute_result",
          "data": {
            "text/plain": [
              "array(['Unnamed: 0', 'x000', 'x001', 'x002', 'x003', 'x005', 'x006',\n",
              "       'x007', 'x008', 'x009', 'x010', 'x012', 'x013', 'x014', 'x016',\n",
              "       'x017', 'x018', 'x018**5', 'x006*x009', 'x005/x015',\n",
              "       'x011*x012**2', 'sqrt(x006)/x015', 'x006**3*x018**3',\n",
              "       'x006*sqrt(x013)', 'x006*sqrt(x010)', 'x003**2*sqrt(x006)',\n",
              "       'x003**2*sqrt(x010)', 'sqrt(x009)*sqrt(x018)', 'x000*x016',\n",
              "       'sqrt(x007)', 'x007*x018**3', 'x002*sqrt(x005)', 'x006*sqrt(x011)',\n",
              "       'x003**3*x014**3', 'x000**2*x004**2', 'x012**2*x018**3',\n",
              "       'x009**3*x010**2', 'x012**2*exp(x013)', 'sqrt(x010)*x018**2',\n",
              "       'x005**2*sqrt(x012)', 'sqrt(x002)*sqrt(x018)', 'x005*x014',\n",
              "       'x005*x007', 'x004*x018**2', 'x006*x014**2', 'x000*x010**2',\n",
              "       'x007**2*x018**3', 'sqrt(x016)/x015', 'x006*sqrt(x012)',\n",
              "       'x008*sqrt(x017)', 'sqrt(x016)*x018', 'x013**3*x016**3',\n",
              "       'sqrt(x008)/x015', 'x009**2*Abs(x000)', 'x008**2*log(x015)',\n",
              "       'x006**2*log(x015)', 'x006**2*sqrt(x017)', 'x002**3*sqrt(x012)',\n",
              "       'x010**3*sqrt(x011)', 'sqrt(x017)*log(x015)',\n",
              "       'sqrt(x007)*sqrt(x011)', 'sqrt(x007)*sqrt(x009)',\n",
              "       'sqrt(x010)*sqrt(x014)', 'sqrt(x003)*sqrt(x009)'], dtype=object)"
            ]
          },
          "metadata": {},
          "execution_count": 27
        }
      ]
    },
    {
      "cell_type": "code",
      "source": [
        "from sklearn.feature_selection import SelectFromModel\n",
        "import numpy as np\n",
        "from sklearn.linear_model import RidgeCV"
      ],
      "metadata": {
        "id": "A2HjTsHOxWLi"
      },
      "execution_count": 5,
      "outputs": []
    },
    {
      "cell_type": "code",
      "source": [
        "ridge = RidgeCV(alphas=np.logspace(-6, 6, num=5)).fit(X, y)\n",
        "importance = np.abs(ridge.coef_)\n",
        "feature_names = np.array(X.columns)\n",
        "plt.bar(height=importance, x=feature_names)\n",
        "plt.title(\"Feature importances via coefficients\")\n",
        "plt.show()"
      ],
      "metadata": {
        "colab": {
          "base_uri": "https://localhost:8080/",
          "height": 281
        },
        "id": "qMmzuJlpU1Zg",
        "outputId": "32e2b49d-c3bd-4c1e-9358-e88cc57dd81c"
      },
      "execution_count": 7,
      "outputs": [
        {
          "output_type": "display_data",
          "data": {
            "text/plain": [
              "<Figure size 432x288 with 1 Axes>"
            ],
            "image/png": "[encoded data removed]"
          },
          "metadata": {
            "needs_background": "light"
          }
        }
      ]
    },
    {
      "cell_type": "code",
      "source": [
        "threshold = np.sort(importance)[-6] + 0.01\n",
        "\n",
        "sfm = SelectFromModel(ridge, threshold=threshold).fit(X, y)\n"
      ],
      "metadata": {
        "id": "sQE1F6FXU1Xk"
      },
      "execution_count": 12,
      "outputs": []
    },
    {
      "cell_type": "code",
      "source": [
        "sfm.get_feature_names_out()"
      ],
      "metadata": {
        "colab": {
          "base_uri": "https://localhost:8080/"
        },
        "id": "O0ribZd9zmaF",
        "outputId": "9e9ede04-e7c1-4542-de94-0b82d3050200"
      },
      "execution_count": 13,
      "outputs": [
        {
          "output_type": "execute_result",
          "data": {
            "text/plain": [
              "array(['sqrt(x009)/x002', 'sqrt(x003)/x002', 'x003**3*x014**3',\n",
              "       'sqrt(x005)/x002', 'x002**3*sqrt(x012)'], dtype=object)"
            ]
          },
          "metadata": {},
          "execution_count": 13
        }
      ]
    },
    {
      "cell_type": "markdown",
      "source": [
        "SelectFromModel предлагает использовать фичи схожие с теми что предлагает SequentialFeatureSelector(хотя мы и использовали другой алгоритм для оценки), но в более измененном с математической точки зрения варианте. \n",
        "Из всех выше перечисленных алгоритмов на наших данных лучше вссего себя показал SequentialFeatureSelector."
      ],
      "metadata": {
        "id": "YxyJ5kiNXhrV"
      }
    }
  ]
}